{
 "cells": [
  {
   "cell_type": "markdown",
   "metadata": {},
   "source": [
    "## Loan Approval Predicion using Machine Learning"
   ]
  },
  {
   "cell_type": "markdown",
   "metadata": {},
   "source": [
    "### What is a loan prediction system?\n",
    "A mechanism called Loan Prediction System allows you to apply for loans and receive notifications when they are approved. By the data provided by the applicant, the system notifies the applicant of the loan's availability."
   ]
  },
  {
   "cell_type": "code",
   "execution_count": 1,
   "metadata": {},
   "outputs": [],
   "source": [
    "# importing various python libraries\n",
    "import pandas as pd\n",
    "import numpy as np\n",
    "import matplotlib.pyplot as plt\n",
    "import seaborn as sns\n",
    "%matplotlib inline"
   ]
  },
  {
   "cell_type": "code",
   "execution_count": 4,
   "metadata": {},
   "outputs": [
    {
     "data": {
      "text/html": [
       "<div>\n",
       "<style scoped>\n",
       "    .dataframe tbody tr th:only-of-type {\n",
       "        vertical-align: middle;\n",
       "    }\n",
       "\n",
       "    .dataframe tbody tr th {\n",
       "        vertical-align: top;\n",
       "    }\n",
       "\n",
       "    .dataframe thead th {\n",
       "        text-align: right;\n",
       "    }\n",
       "</style>\n",
       "<table border=\"1\" class=\"dataframe\">\n",
       "  <thead>\n",
       "    <tr style=\"text-align: right;\">\n",
       "      <th></th>\n",
       "      <th>Loan_ID</th>\n",
       "      <th>Gender</th>\n",
       "      <th>Married</th>\n",
       "      <th>Dependents</th>\n",
       "      <th>Education</th>\n",
       "      <th>Self_Employed</th>\n",
       "      <th>ApplicantIncome</th>\n",
       "      <th>CoapplicantIncome</th>\n",
       "      <th>LoanAmount</th>\n",
       "      <th>Loan_Amount_Term</th>\n",
       "      <th>Credit_History</th>\n",
       "      <th>Property_Area</th>\n",
       "      <th>Loan_Status</th>\n",
       "    </tr>\n",
       "  </thead>\n",
       "  <tbody>\n",
       "    <tr>\n",
       "      <th>0</th>\n",
       "      <td>LP001002</td>\n",
       "      <td>Male</td>\n",
       "      <td>No</td>\n",
       "      <td>0</td>\n",
       "      <td>Graduate</td>\n",
       "      <td>No</td>\n",
       "      <td>5849</td>\n",
       "      <td>0.0</td>\n",
       "      <td>NaN</td>\n",
       "      <td>360.0</td>\n",
       "      <td>1.0</td>\n",
       "      <td>Urban</td>\n",
       "      <td>Y</td>\n",
       "    </tr>\n",
       "    <tr>\n",
       "      <th>1</th>\n",
       "      <td>LP001003</td>\n",
       "      <td>Male</td>\n",
       "      <td>Yes</td>\n",
       "      <td>1</td>\n",
       "      <td>Graduate</td>\n",
       "      <td>No</td>\n",
       "      <td>4583</td>\n",
       "      <td>1508.0</td>\n",
       "      <td>128.0</td>\n",
       "      <td>360.0</td>\n",
       "      <td>1.0</td>\n",
       "      <td>Rural</td>\n",
       "      <td>N</td>\n",
       "    </tr>\n",
       "    <tr>\n",
       "      <th>2</th>\n",
       "      <td>LP001005</td>\n",
       "      <td>Male</td>\n",
       "      <td>Yes</td>\n",
       "      <td>0</td>\n",
       "      <td>Graduate</td>\n",
       "      <td>Yes</td>\n",
       "      <td>3000</td>\n",
       "      <td>0.0</td>\n",
       "      <td>66.0</td>\n",
       "      <td>360.0</td>\n",
       "      <td>1.0</td>\n",
       "      <td>Urban</td>\n",
       "      <td>Y</td>\n",
       "    </tr>\n",
       "    <tr>\n",
       "      <th>3</th>\n",
       "      <td>LP001006</td>\n",
       "      <td>Male</td>\n",
       "      <td>Yes</td>\n",
       "      <td>0</td>\n",
       "      <td>Not Graduate</td>\n",
       "      <td>No</td>\n",
       "      <td>2583</td>\n",
       "      <td>2358.0</td>\n",
       "      <td>120.0</td>\n",
       "      <td>360.0</td>\n",
       "      <td>1.0</td>\n",
       "      <td>Urban</td>\n",
       "      <td>Y</td>\n",
       "    </tr>\n",
       "    <tr>\n",
       "      <th>4</th>\n",
       "      <td>LP001008</td>\n",
       "      <td>Male</td>\n",
       "      <td>No</td>\n",
       "      <td>0</td>\n",
       "      <td>Graduate</td>\n",
       "      <td>No</td>\n",
       "      <td>6000</td>\n",
       "      <td>0.0</td>\n",
       "      <td>141.0</td>\n",
       "      <td>360.0</td>\n",
       "      <td>1.0</td>\n",
       "      <td>Urban</td>\n",
       "      <td>Y</td>\n",
       "    </tr>\n",
       "  </tbody>\n",
       "</table>\n",
       "</div>"
      ],
      "text/plain": [
       "    Loan_ID Gender Married Dependents     Education Self_Employed  \\\n",
       "0  LP001002   Male      No          0      Graduate            No   \n",
       "1  LP001003   Male     Yes          1      Graduate            No   \n",
       "2  LP001005   Male     Yes          0      Graduate           Yes   \n",
       "3  LP001006   Male     Yes          0  Not Graduate            No   \n",
       "4  LP001008   Male      No          0      Graduate            No   \n",
       "\n",
       "   ApplicantIncome  CoapplicantIncome  LoanAmount  Loan_Amount_Term  \\\n",
       "0             5849                0.0         NaN             360.0   \n",
       "1             4583             1508.0       128.0             360.0   \n",
       "2             3000                0.0        66.0             360.0   \n",
       "3             2583             2358.0       120.0             360.0   \n",
       "4             6000                0.0       141.0             360.0   \n",
       "\n",
       "   Credit_History Property_Area Loan_Status  \n",
       "0             1.0         Urban           Y  \n",
       "1             1.0         Rural           N  \n",
       "2             1.0         Urban           Y  \n",
       "3             1.0         Urban           Y  \n",
       "4             1.0         Urban           Y  "
      ]
     },
     "execution_count": 4,
     "metadata": {},
     "output_type": "execute_result"
    }
   ],
   "source": [
    "# Reading the dataset from Excel file to dataframe 'df'\n",
    "df= pd.read_excel('loan_ds.xlsx')\n",
    "df.head()"
   ]
  },
  {
   "cell_type": "code",
   "execution_count": 5,
   "metadata": {},
   "outputs": [
    {
     "name": "stdout",
     "output_type": "stream",
     "text": [
      "<class 'pandas.core.frame.DataFrame'>\n",
      "RangeIndex: 614 entries, 0 to 613\n",
      "Data columns (total 13 columns):\n",
      " #   Column             Non-Null Count  Dtype  \n",
      "---  ------             --------------  -----  \n",
      " 0   Loan_ID            614 non-null    object \n",
      " 1   Gender             601 non-null    object \n",
      " 2   Married            611 non-null    object \n",
      " 3   Dependents         599 non-null    object \n",
      " 4   Education          614 non-null    object \n",
      " 5   Self_Employed      582 non-null    object \n",
      " 6   ApplicantIncome    614 non-null    int64  \n",
      " 7   CoapplicantIncome  614 non-null    float64\n",
      " 8   LoanAmount         592 non-null    float64\n",
      " 9   Loan_Amount_Term   600 non-null    float64\n",
      " 10  Credit_History     564 non-null    float64\n",
      " 11  Property_Area      614 non-null    object \n",
      " 12  Loan_Status        614 non-null    object \n",
      "dtypes: float64(4), int64(1), object(8)\n",
      "memory usage: 62.5+ KB\n"
     ]
    }
   ],
   "source": [
    "# Information of the Dataframe\n",
    "df.info()"
   ]
  },
  {
   "cell_type": "markdown",
   "metadata": {},
   "source": [
    "### <span style=\"color:red\">Logging the required values</span>\n",
    "#### Why do we log values ?\n",
    "##### Loan amount distributions can often be right-skewed, meaning that there might be a few instances with very high loan amounts. Taking the logarithm can help in making the distribution more symmetric and can mitigate the impact of extreme values.\n",
    "\n"
   ]
  },
  {
   "cell_type": "code",
   "execution_count": 6,
   "metadata": {},
   "outputs": [
    {
     "data": {
      "text/plain": [
       "<AxesSubplot:>"
      ]
     },
     "execution_count": 6,
     "metadata": {},
     "output_type": "execute_result"
    },
    {
     "data": {
      "image/png": "[encoded data removed]",
      "text/plain": [
       "<Figure size 640x480 with 1 Axes>"
      ]
     },
     "metadata": {},
     "output_type": "display_data"
    }
   ],
   "source": [
    "#Logging Loan_amount values and plotting histogram\n",
    "df['LoanAmount_log'] = np.log(df['LoanAmount'])\n",
    "df['LoanAmount_log'].hist(bins = 20) #it means that you want to divide the range of your data into 20 intervals"
   ]
  },
  {
   "cell_type": "code",
   "execution_count": 7,
   "metadata": {},
   "outputs": [
    {
     "data": {
      "text/plain": [
       "<AxesSubplot:>"
      ]
     },
     "execution_count": 7,
     "metadata": {},
     "output_type": "execute_result"
    },
    {
     "data": {
      "image/png": "[encoded data removed]",
      "text/plain": [
       "<Figure size 640x480 with 1 Axes>"
      ]
     },
     "metadata": {},
     "output_type": "display_data"
    }
   ],
   "source": [
    "# Calculating Total Income\n",
    "# Total Income = Applicant Income + Co Applicant Income\n",
    "df['TotalIncome'] = df['ApplicantIncome'] + df['CoapplicantIncome']\n",
    "df['TotalIncome_log'] = np.log(df['TotalIncome'])\n",
    "df['TotalIncome_log'].hist(bins = 20)"
   ]
  },
  {
   "cell_type": "code",
   "execution_count": 9,
   "metadata": {},
   "outputs": [
    {
     "data": {
      "text/plain": [
       "Loan_ID               0\n",
       "Gender               13\n",
       "Married               3\n",
       "Dependents           15\n",
       "Education             0\n",
       "Self_Employed        32\n",
       "ApplicantIncome       0\n",
       "CoapplicantIncome     0\n",
       "LoanAmount           22\n",
       "Loan_Amount_Term     14\n",
       "Credit_History       50\n",
       "Property_Area         0\n",
       "Loan_Status           0\n",
       "LoanAmount_log       22\n",
       "TotalIncome           0\n",
       "TotalIncome_log       0\n",
       "dtype: int64"
      ]
     },
     "execution_count": 9,
     "metadata": {},
     "output_type": "execute_result"
    }
   ],
   "source": [
    "# Finding total sum of Null Values\n",
    "df.isnull().sum()"
   ]
  },
  {
   "cell_type": "code",
   "execution_count": 17,
   "metadata": {},
   "outputs": [],
   "source": [
    "# Filling values into null values \n",
    "df['Gender'].fillna(df['Gender'].mode()[0], inplace=True)\n",
    "df['Married'].fillna(df['Married'].mode()[0], inplace=True)\n",
    "df['Dependents'].fillna(df['Dependents'].mode()[0], inplace=True)\n",
    "df['Self_Employed'].fillna(df['Self_Employed'].mode()[0], inplace=True)\n",
    "df['Loan_Amount_Term'].fillna(df['Loan_Amount_Term'].mode()[0], inplace=True)\n",
    "df['Credit_History'].fillna(df['Credit_History'].mode()[0], inplace=True)\n",
    "df['LoanAmount']=df.LoanAmount.fillna(df['LoanAmount'].mean())\n",
    "df['LoanAmount_log']=df.LoanAmount_log.fillna(df['LoanAmount_log'].mean())"
   ]
  },
  {
   "cell_type": "code",
   "execution_count": 18,
   "metadata": {},
   "outputs": [
    {
     "data": {
      "text/plain": [
       "Loan_ID              0\n",
       "Gender               0\n",
       "Married              0\n",
       "Dependents           0\n",
       "Education            0\n",
       "Self_Employed        0\n",
       "ApplicantIncome      0\n",
       "CoapplicantIncome    0\n",
       "LoanAmount           0\n",
       "Loan_Amount_Term     0\n",
       "Credit_History       0\n",
       "Property_Area        0\n",
       "Loan_Status          0\n",
       "LoanAmount_log       0\n",
       "TotalIncome          0\n",
       "TotalIncome_log      0\n",
       "dtype: int64"
      ]
     },
     "execution_count": 18,
     "metadata": {},
     "output_type": "execute_result"
    }
   ],
   "source": [
    "# CHecking for null values\n",
    "df.isnull().sum()"
   ]
  },
  {
   "cell_type": "code",
   "execution_count": 19,
   "metadata": {},
   "outputs": [],
   "source": [
    "# X and Y Values for Statistical model ML\n",
    "# X is all input values require to find Y\n",
    "# Our Target variable Y here is 'Loan status'\n",
    "x = df.iloc[:, np.r_[1:5,9:11,13:15]].values\n",
    "y = df.iloc[:,12].values"
   ]
  },
  {
   "cell_type": "code",
   "execution_count": 21,
   "metadata": {},
   "outputs": [
    {
     "name": "stdout",
     "output_type": "stream",
     "text": [
      "Male      502\n",
      "Female    112\n",
      "Name: Gender, dtype: int64\n"
     ]
    },
    {
     "data": {
      "text/plain": [
       "<AxesSubplot:xlabel='Gender', ylabel='count'>"
      ]
     },
     "execution_count": 21,
     "metadata": {},
     "output_type": "execute_result"
    },
    {
     "data": {
      "image/png": "[encoded data removed]",
      "text/plain": [
       "<Figure size 640x480 with 1 Axes>"
      ]
     },
     "metadata": {},
     "output_type": "display_data"
    }
   ],
   "source": [
    "# Gender Plot\n",
    "print(df['Gender'].value_counts())\n",
    "sns.countplot(x='Gender', data=df , palette = 'Set2')"
   ]
  },
  {
   "cell_type": "code",
   "execution_count": 23,
   "metadata": {},
   "outputs": [
    {
     "name": "stdout",
     "output_type": "stream",
     "text": [
      "Yes    401\n",
      "No     213\n",
      "Name: Married, dtype: int64\n"
     ]
    },
    {
     "data": {
      "text/plain": [
       "<AxesSubplot:xlabel='Married', ylabel='count'>"
      ]
     },
     "execution_count": 23,
     "metadata": {},
     "output_type": "execute_result"
    },
    {
     "data": {
      "image/png": "[encoded data removed]",
      "text/plain": [
       "<Figure size 640x480 with 1 Axes>"
      ]
     },
     "metadata": {},
     "output_type": "display_data"
    }
   ],
   "source": [
    "print(df['Married'].value_counts())\n",
    "sns.countplot(x='Married' , data=df, palette='Set2')"
   ]
  },
  {
   "cell_type": "code",
   "execution_count": 26,
   "metadata": {},
   "outputs": [
    {
     "name": "stdout",
     "output_type": "stream",
     "text": [
      "0     360\n",
      "1     102\n",
      "2     101\n",
      "3+     51\n",
      "Name: Dependents, dtype: int64\n"
     ]
    },
    {
     "data": {
      "text/plain": [
       "<AxesSubplot:xlabel='Dependents', ylabel='count'>"
      ]
     },
     "execution_count": 26,
     "metadata": {},
     "output_type": "execute_result"
    },
    {
     "data": {
      "image/png": "[encoded data removed]",
      "text/plain": [
       "<Figure size 640x480 with 1 Axes>"
      ]
     },
     "metadata": {},
     "output_type": "display_data"
    }
   ],
   "source": [
    "print(df['Dependents'].value_counts())\n",
    "sns.countplot(x='Dependents' , data =df , palette = 'Set2')"
   ]
  },
  {
   "cell_type": "code",
   "execution_count": 28,
   "metadata": {},
   "outputs": [
    {
     "name": "stdout",
     "output_type": "stream",
     "text": [
      "No     532\n",
      "Yes     82\n",
      "Name: Self_Employed, dtype: int64\n"
     ]
    },
    {
     "data": {
      "text/plain": [
       "<AxesSubplot:xlabel='Self_Employed', ylabel='count'>"
      ]
     },
     "execution_count": 28,
     "metadata": {},
     "output_type": "execute_result"
    },
    {
     "data": {
      "image/png": "[encoded data removed]",
      "text/plain": [
       "<Figure size 640x480 with 1 Axes>"
      ]
     },
     "metadata": {},
     "output_type": "display_data"
    }
   ],
   "source": [
    "print(df['Self_Employed'].value_counts())\n",
    "sns.countplot(x='Self_Employed' , data=df, palette='Set2')"
   ]
  },
  {
   "cell_type": "code",
   "execution_count": 30,
   "metadata": {},
   "outputs": [
    {
     "name": "stdout",
     "output_type": "stream",
     "text": [
      "120.0    42\n",
      "110.0    17\n",
      "100.0    15\n",
      "160.0    12\n",
      "187.0    12\n",
      "         ..\n",
      "240.0     1\n",
      "214.0     1\n",
      "59.0      1\n",
      "166.0     1\n",
      "253.0     1\n",
      "Name: LoanAmount, Length: 203, dtype: int64\n"
     ]
    }
   ],
   "source": [
    "print(df['LoanAmount'].value_counts())"
   ]
  },
  {
   "cell_type": "code",
   "execution_count": 31,
   "metadata": {},
   "outputs": [
    {
     "name": "stdout",
     "output_type": "stream",
     "text": [
      "1.0    525\n",
      "0.0     89\n",
      "Name: Credit_History, dtype: int64\n"
     ]
    },
    {
     "data": {
      "text/plain": [
       "<AxesSubplot:xlabel='Credit_History', ylabel='count'>"
      ]
     },
     "execution_count": 31,
     "metadata": {},
     "output_type": "execute_result"
    },
    {
     "data": {
      "image/png": "[encoded data removed]",
      "text/plain": [
       "<Figure size 640x480 with 1 Axes>"
      ]
     },
     "metadata": {},
     "output_type": "display_data"
    }
   ],
   "source": [
    "print(df['Credit_History'].value_counts())\n",
    "sns.countplot(x='Credit_History' , data =df , palette = 'Set2')"
   ]
  },
  {
   "cell_type": "code",
   "execution_count": 32,
   "metadata": {},
   "outputs": [],
   "source": [
    "from sklearn.model_selection import train_test_split\n",
    "X_train , X_test , Y_train , Y_test = train_test_split(x,y,test_size = 0.2 , random_state= 0)\n",
    "\n",
    "from sklearn.preprocessing import LabelEncoder\n",
    "labelencoder_x = LabelEncoder()"
   ]
  },
  {
   "cell_type": "markdown",
   "metadata": {},
   "source": [
    "##### <font color=\"red\">NOTE:</font> The LabelEncoder accepts only the same type of input. Therefore, enter just similar type data before running LabelEncoder."
   ]
  },
  {
   "cell_type": "code",
   "execution_count": 33,
   "metadata": {},
   "outputs": [
    {
     "data": {
      "text/plain": [
       "array([[1, 1, 0, ..., 1.0, 4.875197323201151, 267],\n",
       "       [1, 0, 1, ..., 1.0, 5.278114659230517, 407],\n",
       "       [1, 1, 0, ..., 0.0, 5.003946305945459, 249],\n",
       "       ...,\n",
       "       [1, 1, 3, ..., 1.0, 5.298317366548036, 363],\n",
       "       [1, 1, 0, ..., 1.0, 5.075173815233827, 273],\n",
       "       [0, 1, 0, ..., 1.0, 5.204006687076795, 301]], dtype=object)"
      ]
     },
     "execution_count": 33,
     "metadata": {},
     "output_type": "execute_result"
    }
   ],
   "source": [
    "for i in range(0,5):\n",
    "    X_train[:,i] = X_train[:,i].astype(str)\n",
    "    X_train[:,i] = labelencoder_x.fit_transform(X_train[:,i]) \n",
    "    X_train[:,7] = labelencoder_x.fit_transform(X_train[:,7])\n",
    "X_train"
   ]
  },
  {
   "cell_type": "code",
   "execution_count": 34,
   "metadata": {},
   "outputs": [
    {
     "data": {
      "text/plain": [
       "array([1, 0, 0, 1, 1, 0, 1, 1, 1, 0, 0, 1, 1, 1, 1, 1, 1, 1, 1, 0, 1, 1,\n",
       "       0, 1, 1, 0, 0, 1, 1, 1, 0, 1, 1, 1, 1, 1, 0, 1, 0, 1, 0, 1, 1, 1,\n",
       "       1, 0, 0, 0, 1, 1, 1, 0, 1, 1, 1, 1, 1, 1, 1, 1, 0, 1, 0, 1, 1, 0,\n",
       "       1, 1, 1, 1, 1, 0, 0, 1, 1, 0, 1, 0, 0, 1, 0, 0, 1, 1, 1, 1, 1, 1,\n",
       "       1, 1, 0, 1, 0, 1, 0, 1, 1, 1, 1, 0, 0, 1, 1, 1, 0, 1, 1, 0, 0, 0,\n",
       "       1, 1, 1, 0, 1, 0, 0, 1, 0, 0, 0, 1, 1, 1, 1, 1, 0, 0, 0, 0, 1, 1,\n",
       "       0, 1, 1, 1, 1, 1, 1, 0, 0, 1, 1, 1, 1, 1, 0, 1, 1, 1, 1, 1, 1, 1,\n",
       "       1, 1, 1, 0, 1, 1, 1, 1, 1, 1, 1, 1, 1, 1, 1, 0, 0, 1, 1, 1, 1, 0,\n",
       "       0, 1, 0, 1, 0, 0, 0, 1, 0, 1, 1, 1, 1, 1, 0, 0, 1, 0, 1, 1, 1, 1,\n",
       "       0, 0, 1, 1, 1, 1, 1, 0, 0, 1, 1, 1, 1, 0, 1, 1, 1, 1, 0, 0, 1, 1,\n",
       "       0, 1, 1, 1, 0, 1, 1, 1, 0, 1, 0, 1, 0, 1, 1, 0, 0, 0, 1, 0, 1, 1,\n",
       "       1, 1, 1, 0, 1, 1, 1, 1, 1, 1, 0, 1, 0, 1, 0, 1, 1, 1, 1, 1, 1, 1,\n",
       "       1, 1, 0, 0, 1, 0, 1, 1, 1, 0, 1, 1, 0, 1, 0, 1, 0, 1, 1, 1, 1, 1,\n",
       "       1, 1, 1, 1, 0, 1, 1, 0, 1, 1, 1, 0, 0, 1, 1, 1, 1, 0, 1, 0, 1, 1,\n",
       "       1, 1, 1, 0, 1, 0, 1, 0, 0, 1, 1, 0, 1, 1, 0, 1, 1, 0, 0, 1, 1, 1,\n",
       "       1, 1, 1, 0, 1, 1, 1, 0, 1, 0, 0, 0, 0, 1, 1, 1, 1, 0, 0, 1, 1, 1,\n",
       "       1, 0, 1, 0, 1, 1, 1, 1, 1, 0, 1, 1, 1, 1, 1, 1, 1, 0, 1, 0, 0, 0,\n",
       "       1, 1, 0, 1, 1, 1, 1, 0, 1, 1, 0, 1, 0, 0, 0, 1, 1, 1, 1, 1, 1, 1,\n",
       "       1, 0, 1, 0, 1, 1, 1, 0, 1, 1, 1, 0, 0, 1, 1, 1, 1, 0, 1, 1, 1, 1,\n",
       "       1, 1, 0, 1, 0, 1, 0, 1, 1, 0, 0, 1, 1, 0, 1, 1, 1, 1, 1, 1, 1, 0,\n",
       "       1, 1, 0, 0, 1, 0, 1, 1, 1, 1, 1, 1, 1, 0, 0, 1, 0, 0, 0, 0, 0, 1,\n",
       "       1, 1, 1, 1, 1, 0, 1, 0, 1, 0, 0, 1, 1, 1, 0, 1, 1, 0, 0, 0, 0, 1,\n",
       "       1, 1, 1, 0, 1, 0, 1])"
      ]
     },
     "execution_count": 34,
     "metadata": {},
     "output_type": "execute_result"
    }
   ],
   "source": [
    "labelencoder_y = LabelEncoder()\n",
    "Y_train = labelencoder_y.fit_transform(Y_train)\n",
    "Y_train"
   ]
  },
  {
   "cell_type": "code",
   "execution_count": 35,
   "metadata": {},
   "outputs": [
    {
     "data": {
      "text/plain": [
       "array([[1, 0, 0, 0, 4, 1.0, 4.430816798843313, 85],\n",
       "       [0, 0, 0, 0, 4, 1.0, 4.718498871295094, 28],\n",
       "       [1, 1, 0, 0, 4, 1.0, 5.780743515792329, 104],\n",
       "       [1, 1, 0, 0, 4, 1.0, 4.700480365792417, 80],\n",
       "       [1, 1, 2, 0, 4, 1.0, 4.574710978503383, 22],\n",
       "       [1, 1, 0, 1, 2, 0.0, 5.10594547390058, 70],\n",
       "       [1, 1, 3, 0, 2, 1.0, 5.056245805348308, 77],\n",
       "       [1, 0, 0, 0, 4, 1.0, 6.003887067106539, 114],\n",
       "       [1, 0, 0, 0, 4, 0.0, 4.820281565605037, 53],\n",
       "       [1, 1, 0, 0, 4, 1.0, 4.852030263919617, 55],\n",
       "       [0, 0, 0, 0, 4, 1.0, 4.430816798843313, 4],\n",
       "       [1, 1, 1, 0, 4, 1.0, 4.553876891600541, 2],\n",
       "       [0, 0, 0, 0, 4, 1.0, 5.634789603169249, 96],\n",
       "       [1, 1, 2, 0, 4, 1.0, 5.4638318050256105, 97],\n",
       "       [1, 1, 0, 0, 4, 1.0, 4.564348191467836, 117],\n",
       "       [1, 1, 1, 0, 4, 1.0, 4.204692619390966, 22],\n",
       "       [1, 0, 1, 1, 4, 1.0, 5.247024072160486, 32],\n",
       "       [1, 0, 0, 1, 4, 1.0, 4.882801922586371, 25],\n",
       "       [0, 0, 0, 0, 4, 1.0, 4.532599493153256, 1],\n",
       "       [1, 1, 0, 1, 4, 0.0, 5.198497031265826, 44],\n",
       "       [0, 1, 0, 0, 4, 0.0, 4.787491742782046, 71],\n",
       "       [1, 1, 0, 0, 4, 1.0, 4.962844630259907, 43],\n",
       "       [1, 1, 2, 0, 4, 1.0, 4.68213122712422, 91],\n",
       "       [1, 1, 2, 0, 4, 1.0, 5.10594547390058, 111],\n",
       "       [1, 1, 0, 0, 4, 1.0, 4.060443010546419, 35],\n",
       "       [1, 1, 1, 0, 4, 1.0, 5.521460917862246, 94],\n",
       "       [1, 0, 0, 0, 4, 1.0, 5.231108616854587, 98],\n",
       "       [1, 1, 0, 0, 4, 1.0, 5.231108616854587, 110],\n",
       "       [1, 1, 3, 0, 4, 0.0, 4.852030263919617, 41],\n",
       "       [0, 0, 0, 0, 4, 0.0, 4.634728988229636, 50],\n",
       "       [1, 1, 0, 0, 4, 1.0, 5.429345628954441, 99],\n",
       "       [1, 0, 0, 1, 4, 1.0, 3.871201010907891, 46],\n",
       "       [1, 1, 1, 1, 4, 1.0, 4.499809670330265, 52],\n",
       "       [1, 1, 0, 0, 4, 1.0, 5.19295685089021, 102],\n",
       "       [1, 1, 0, 0, 4, 1.0, 4.857444178729353, 95],\n",
       "       [0, 1, 0, 1, 4, 0.0, 5.181783550292085, 57],\n",
       "       [1, 1, 0, 0, 4, 1.0, 5.147494476813453, 65],\n",
       "       [1, 0, 0, 1, 4, 1.0, 4.836281906951478, 39],\n",
       "       [1, 1, 0, 0, 4, 1.0, 4.852030263919617, 75],\n",
       "       [1, 1, 2, 1, 4, 1.0, 4.68213122712422, 24],\n",
       "       [0, 0, 0, 0, 4, 1.0, 4.382026634673881, 9],\n",
       "       [1, 1, 3, 0, 4, 0.0, 4.812184355372417, 68],\n",
       "       [1, 1, 2, 0, 1, 1.0, 2.833213344056216, 0],\n",
       "       [1, 1, 1, 1, 4, 1.0, 5.062595033026967, 67],\n",
       "       [1, 0, 0, 0, 4, 1.0, 4.330733340286331, 21],\n",
       "       [1, 0, 0, 0, 4, 1.0, 5.231108616854587, 113],\n",
       "       [1, 1, 1, 0, 4, 1.0, 4.7535901911063645, 18],\n",
       "       [0, 0, 0, 0, 4, 1.0, 4.74493212836325, 37],\n",
       "       [1, 1, 1, 0, 4, 1.0, 4.852030263919617, 72],\n",
       "       [1, 0, 0, 0, 4, 1.0, 4.941642422609304, 78],\n",
       "       [1, 1, 3, 1, 4, 1.0, 4.30406509320417, 8],\n",
       "       [1, 1, 0, 0, 4, 1.0, 4.867534450455582, 84],\n",
       "       [1, 1, 0, 1, 4, 1.0, 4.672828834461906, 31],\n",
       "       [1, 0, 0, 0, 4, 1.0, 4.857444178729353, 61],\n",
       "       [1, 1, 0, 0, 4, 1.0, 4.718498871295094, 19],\n",
       "       [1, 1, 0, 0, 4, 1.0, 5.556828061699537, 107],\n",
       "       [1, 1, 0, 0, 4, 1.0, 4.553876891600541, 34],\n",
       "       [1, 0, 0, 1, 4, 1.0, 4.890349128221754, 74],\n",
       "       [1, 1, 2, 0, 4, 1.0, 5.123963979403259, 62],\n",
       "       [1, 0, 0, 0, 4, 1.0, 4.787491742782046, 27],\n",
       "       [0, 0, 0, 0, 4, 0.0, 4.919980925828125, 108],\n",
       "       [0, 0, 0, 0, 4, 1.0, 5.365976015021851, 103],\n",
       "       [1, 1, 0, 1, 4, 1.0, 4.74493212836325, 38],\n",
       "       [0, 0, 0, 0, 4, 0.0, 4.330733340286331, 13],\n",
       "       [1, 1, 2, 0, 4, 1.0, 4.890349128221754, 69],\n",
       "       [1, 1, 1, 0, 4, 1.0, 5.752572638825633, 112],\n",
       "       [1, 1, 0, 0, 4, 1.0, 5.075173815233827, 73],\n",
       "       [1, 0, 0, 0, 4, 1.0, 4.912654885736052, 47],\n",
       "       [1, 1, 0, 0, 4, 1.0, 5.204006687076795, 81],\n",
       "       [1, 0, 0, 1, 4, 1.0, 4.564348191467836, 60],\n",
       "       [1, 0, 0, 0, 4, 1.0, 4.204692619390966, 83],\n",
       "       [0, 1, 0, 0, 4, 1.0, 4.867534450455582, 5],\n",
       "       [1, 1, 2, 1, 4, 1.0, 5.056245805348308, 58],\n",
       "       [1, 1, 1, 1, 2, 1.0, 4.919980925828125, 79],\n",
       "       [0, 1, 0, 0, 4, 1.0, 4.969813299576001, 54],\n",
       "       [1, 1, 0, 1, 3, 1.0, 4.820281565605037, 56],\n",
       "       [1, 0, 0, 0, 4, 1.0, 4.499809670330265, 120],\n",
       "       [1, 0, 3, 0, 4, 1.0, 5.768320995793772, 118],\n",
       "       [1, 1, 2, 0, 4, 1.0, 4.718498871295094, 101],\n",
       "       [0, 0, 0, 0, 4, 0.0, 4.7535901911063645, 26],\n",
       "       [0, 0, 0, 0, 5, 1.0, 4.727387818712341, 33],\n",
       "       [1, 1, 1, 0, 4, 1.0, 6.214608098422191, 119],\n",
       "       [0, 0, 0, 0, 4, 1.0, 5.267858159063328, 89],\n",
       "       [1, 1, 2, 0, 4, 1.0, 5.231108616854587, 92],\n",
       "       [1, 0, 0, 0, 5, 1.0, 4.2626798770413155, 6],\n",
       "       [1, 1, 0, 0, 0, 1.0, 4.709530201312334, 90],\n",
       "       [1, 1, 0, 0, 4, 1.0, 4.700480365792417, 45],\n",
       "       [1, 1, 2, 0, 4, 1.0, 5.298317366548036, 109],\n",
       "       [1, 0, 1, 0, 2, 1.0, 4.727387818712341, 17],\n",
       "       [1, 1, 1, 0, 4, 1.0, 4.6443908991413725, 36],\n",
       "       [0, 1, 0, 1, 4, 1.0, 4.605170185988092, 16],\n",
       "       [1, 0, 0, 0, 4, 1.0, 4.30406509320417, 7],\n",
       "       [1, 1, 1, 0, 6, 1.0, 5.147494476813453, 88],\n",
       "       [1, 1, 3, 0, 3, 0.0, 5.19295685089021, 87],\n",
       "       [0, 0, 0, 0, 4, 1.0, 4.2626798770413155, 3],\n",
       "       [1, 0, 0, 1, 2, 0.0, 4.836281906951478, 59],\n",
       "       [1, 0, 0, 0, 2, 1.0, 5.1647859739235145, 82],\n",
       "       [1, 0, 0, 0, 4, 1.0, 4.969813299576001, 66],\n",
       "       [1, 1, 2, 1, 4, 1.0, 4.394449154672439, 51],\n",
       "       [1, 1, 1, 0, 4, 1.0, 5.231108616854587, 100],\n",
       "       [1, 1, 0, 0, 4, 1.0, 5.351858133476067, 93],\n",
       "       [1, 1, 0, 0, 4, 1.0, 4.605170185988092, 15],\n",
       "       [1, 1, 2, 0, 4, 1.0, 4.787491742782046, 106],\n",
       "       [1, 0, 0, 0, 2, 1.0, 4.787491742782046, 105],\n",
       "       [1, 1, 3, 0, 4, 1.0, 4.852030263919617, 64],\n",
       "       [1, 0, 0, 0, 4, 1.0, 4.8283137373023015, 49],\n",
       "       [1, 0, 0, 1, 4, 1.0, 4.6443908991413725, 42],\n",
       "       [0, 0, 0, 0, 4, 1.0, 4.477336814478207, 10],\n",
       "       [1, 1, 0, 1, 4, 1.0, 4.553876891600541, 20],\n",
       "       [1, 1, 3, 1, 2, 1.0, 4.394449154672439, 14],\n",
       "       [1, 0, 0, 0, 4, 1.0, 5.298317366548036, 76],\n",
       "       [0, 0, 0, 0, 4, 1.0, 4.90527477843843, 11],\n",
       "       [1, 0, 0, 0, 5, 1.0, 4.727387818712341, 18],\n",
       "       [1, 1, 2, 0, 4, 1.0, 4.248495242049359, 23],\n",
       "       [1, 1, 0, 1, 4, 0.0, 5.303304908059076, 63],\n",
       "       [1, 1, 0, 0, 2, 0.0, 4.499809670330265, 48],\n",
       "       [0, 0, 0, 0, 4, 1.0, 4.430816798843313, 30],\n",
       "       [1, 0, 0, 0, 4, 1.0, 4.897839799950911, 29],\n",
       "       [1, 1, 2, 0, 4, 1.0, 5.170483995038151, 86],\n",
       "       [1, 1, 3, 0, 4, 1.0, 4.867534450455582, 115],\n",
       "       [1, 1, 0, 0, 4, 1.0, 6.077642243349034, 116],\n",
       "       [1, 1, 3, 1, 2, 0.0, 4.248495242049359, 40],\n",
       "       [1, 1, 1, 0, 4, 1.0, 4.564348191467836, 12]], dtype=object)"
      ]
     },
     "execution_count": 35,
     "metadata": {},
     "output_type": "execute_result"
    }
   ],
   "source": [
    "for i in range(0,5):\n",
    "    X_test[:,i] = X_test[:,i].astype(str)\n",
    "    X_test[:,i] = labelencoder_x.fit_transform(X_test[:,i])\n",
    "    X_test[:,7] = labelencoder_x.fit_transform(X_test[:,7])\n",
    "X_test"
   ]
  },
  {
   "cell_type": "code",
   "execution_count": 36,
   "metadata": {},
   "outputs": [
    {
     "data": {
      "text/plain": [
       "array([1, 0, 1, 0, 1, 0, 1, 1, 0, 1, 1, 1, 1, 1, 1, 0, 0, 1, 1, 0, 0, 1,\n",
       "       1, 1, 1, 1, 1, 1, 0, 0, 1, 1, 1, 1, 1, 0, 1, 1, 1, 1, 1, 0, 1, 1,\n",
       "       1, 1, 1, 1, 0, 1, 1, 1, 1, 1, 1, 1, 1, 0, 1, 1, 1, 0, 1, 0, 1, 1,\n",
       "       1, 1, 1, 1, 0, 1, 1, 1, 1, 1, 0, 0, 1, 0, 1, 0, 0, 1, 0, 1, 1, 1,\n",
       "       1, 1, 1, 0, 0, 0, 1, 0, 1, 1, 1, 1, 1, 1, 1, 0, 1, 1, 1, 1, 1, 0,\n",
       "       1, 0, 0, 1, 0, 1, 1, 1, 1, 1, 1, 0, 1])"
      ]
     },
     "execution_count": 36,
     "metadata": {},
     "output_type": "execute_result"
    }
   ],
   "source": [
    "Y_test = labelencoder_y.fit_transform(Y_test)\n",
    "Y_test"
   ]
  },
  {
   "cell_type": "markdown",
   "metadata": {},
   "source": [
    "#### Checking for Better Prediction System for Loan Approval\n",
    "Classifiers\n",
    "\n",
    "- RandomForestClassifier\n",
    "-  GaussianNB\n",
    "-  DecisionTreeClassifier\n",
    "-  KNeighborsClassifier"
   ]
  },
  {
   "cell_type": "code",
   "execution_count": 37,
   "metadata": {},
   "outputs": [],
   "source": [
    "from sklearn.preprocessing import StandardScaler\n",
    "from sklearn import metrics\n",
    "ss = StandardScaler()\n",
    "X_train = ss.fit_transform(X_train)\n",
    "X_test = ss.fit_transform(X_test)"
   ]
  },
  {
   "cell_type": "code",
   "execution_count": 38,
   "metadata": {},
   "outputs": [
    {
     "name": "stdout",
     "output_type": "stream",
     "text": [
      "Acc of random forest Classifier is  0.7723577235772358\n"
     ]
    },
    {
     "data": {
      "text/plain": [
       "array([1, 1, 0, 1, 1, 0, 1, 0, 0, 1, 1, 1, 1, 1, 1, 1, 1, 1, 0, 0, 0, 1,\n",
       "       1, 1, 1, 1, 1, 1, 0, 0, 1, 1, 1, 1, 1, 0, 1, 1, 1, 1, 1, 0, 0, 1,\n",
       "       1, 0, 1, 1, 1, 1, 1, 1, 1, 1, 1, 0, 1, 1, 1, 1, 0, 1, 1, 0, 1, 1,\n",
       "       1, 1, 1, 1, 1, 1, 1, 1, 1, 1, 1, 0, 1, 0, 1, 0, 1, 1, 1, 1, 1, 1,\n",
       "       1, 1, 1, 1, 1, 0, 1, 0, 0, 1, 1, 1, 1, 1, 1, 1, 1, 1, 1, 1, 1, 1,\n",
       "       1, 1, 1, 1, 0, 0, 1, 1, 0, 1, 0, 0, 1])"
      ]
     },
     "execution_count": 38,
     "metadata": {},
     "output_type": "execute_result"
    }
   ],
   "source": [
    "from sklearn.ensemble import RandomForestClassifier\n",
    "rf_cf = RandomForestClassifier()\n",
    "rf_cf.fit(X_train, Y_train)\n",
    "y_pred = rf_cf.predict(X_test)\n",
    "print(\"Acc of random forest Classifier is \",metrics.accuracy_score(y_pred, Y_test))\n",
    "y_pred"
   ]
  },
  {
   "cell_type": "code",
   "execution_count": 39,
   "metadata": {},
   "outputs": [
    {
     "name": "stdout",
     "output_type": "stream",
     "text": [
      "Acc of Naive Bayes is  0.8292682926829268\n"
     ]
    },
    {
     "data": {
      "text/plain": [
       "array([1, 1, 1, 1, 1, 0, 1, 1, 0, 1, 1, 1, 1, 1, 1, 1, 1, 1, 1, 0, 0, 1,\n",
       "       1, 1, 1, 1, 1, 1, 0, 0, 1, 1, 1, 1, 1, 0, 1, 1, 1, 1, 1, 0, 1, 1,\n",
       "       1, 1, 1, 1, 1, 1, 1, 1, 1, 1, 1, 1, 1, 1, 1, 1, 0, 1, 1, 0, 1, 1,\n",
       "       1, 1, 1, 1, 1, 1, 1, 1, 1, 1, 1, 1, 1, 0, 1, 1, 1, 1, 1, 1, 1, 1,\n",
       "       1, 1, 1, 1, 1, 0, 1, 0, 1, 1, 1, 1, 1, 1, 1, 1, 1, 1, 1, 1, 1, 1,\n",
       "       1, 1, 1, 1, 0, 0, 1, 1, 1, 1, 1, 0, 1])"
      ]
     },
     "execution_count": 39,
     "metadata": {},
     "output_type": "execute_result"
    }
   ],
   "source": [
    "from sklearn.naive_bayes import GaussianNB\n",
    "mb_clf = GaussianNB()\n",
    "mb_clf.fit(X_train , Y_train)\n",
    "y_pred2 = mb_clf.predict(X_test)\n",
    "print(\"Acc of Naive Bayes is \",metrics.accuracy_score(y_pred2 , Y_test))\n",
    "y_pred2"
   ]
  },
  {
   "cell_type": "code",
   "execution_count": 40,
   "metadata": {},
   "outputs": [
    {
     "name": "stdout",
     "output_type": "stream",
     "text": [
      "Acc of Naive Bayes is  0.7398373983739838\n"
     ]
    },
    {
     "data": {
      "text/plain": [
       "array([0, 1, 0, 0, 1, 1, 0, 0, 0, 1, 1, 1, 0, 1, 1, 1, 0, 1, 1, 0, 0, 1,\n",
       "       1, 1, 1, 1, 1, 1, 0, 0, 0, 1, 0, 1, 1, 0, 1, 1, 1, 1, 1, 0, 0, 1,\n",
       "       1, 1, 1, 1, 1, 0, 0, 1, 1, 1, 1, 1, 1, 1, 1, 1, 0, 0, 1, 0, 1, 1,\n",
       "       1, 0, 1, 0, 0, 1, 1, 1, 1, 1, 1, 0, 1, 0, 1, 1, 0, 1, 1, 1, 1, 1,\n",
       "       1, 1, 0, 1, 0, 0, 1, 0, 1, 1, 0, 1, 1, 0, 1, 1, 0, 1, 1, 1, 1, 0,\n",
       "       1, 1, 1, 1, 0, 0, 1, 1, 0, 1, 0, 0, 1])"
      ]
     },
     "execution_count": 40,
     "metadata": {},
     "output_type": "execute_result"
    }
   ],
   "source": [
    "from sklearn.tree import DecisionTreeClassifier\n",
    "dt_clf = DecisionTreeClassifier()\n",
    "dt_clf.fit(X_train, Y_train)\n",
    "y_pred3 = dt_clf.predict(X_test)\n",
    "print(\"Acc of Naive Bayes is \",metrics.accuracy_score(y_pred3 , Y_test))\n",
    "y_pred3"
   ]
  },
  {
   "cell_type": "code",
   "execution_count": 41,
   "metadata": {},
   "outputs": [
    {
     "name": "stdout",
     "output_type": "stream",
     "text": [
      "Acc of Naive Bayes is  0.7967479674796748\n"
     ]
    },
    {
     "data": {
      "text/plain": [
       "array([1, 1, 0, 1, 1, 0, 1, 0, 0, 1, 1, 1, 1, 1, 1, 1, 1, 1, 1, 0, 0, 1,\n",
       "       1, 1, 1, 1, 1, 1, 0, 0, 0, 0, 1, 1, 1, 0, 1, 1, 1, 1, 1, 0, 1, 1,\n",
       "       1, 1, 1, 1, 1, 1, 1, 1, 1, 1, 1, 1, 1, 1, 1, 1, 0, 1, 1, 0, 1, 1,\n",
       "       1, 1, 1, 1, 1, 1, 1, 1, 1, 1, 1, 1, 1, 0, 1, 1, 1, 1, 1, 1, 1, 1,\n",
       "       1, 1, 1, 1, 1, 0, 1, 0, 1, 1, 1, 1, 1, 1, 1, 1, 1, 1, 1, 1, 1, 1,\n",
       "       1, 1, 0, 1, 0, 0, 1, 1, 1, 1, 0, 0, 1])"
      ]
     },
     "execution_count": 41,
     "metadata": {},
     "output_type": "execute_result"
    }
   ],
   "source": [
    "from sklearn.neighbors import KNeighborsClassifier\n",
    "kn_clf = KNeighborsClassifier()\n",
    "kn_clf.fit(X_train, Y_train)\n",
    "y_pred4 = kn_clf.predict(X_test)\n",
    "print(\"Acc of Naive Bayes is \",metrics.accuracy_score(y_pred4 , Y_test))\n",
    "y_pred4"
   ]
  },
  {
   "cell_type": "markdown",
   "metadata": {},
   "source": [
    "<font color='red'>Naive Bayes Prediction has higher Accuracy for Loan Prediciton<font>"
   ]
  }
 ],
 "metadata": {
  "kernelspec": {
   "display_name": "base",
   "language": "python",
   "name": "python3"
  },
  "language_info": {
   "codemirror_mode": {
    "name": "ipython",
    "version": 3
   },
   "file_extension": ".py",
   "mimetype": "text/x-python",
   "name": "python",
   "nbconvert_exporter": "python",
   "pygments_lexer": "ipython3",
   "version": "3.9.13"
  }
 },
 "nbformat": 4,
 "nbformat_minor": 2
}
